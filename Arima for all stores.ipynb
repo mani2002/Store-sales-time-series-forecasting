{
 "cells": [
  {
   "cell_type": "code",
   "execution_count": 1,
   "id": "4fc0d912",
   "metadata": {},
   "outputs": [],
   "source": [
    "import pandas as pd\n",
    "import numpy as np\n",
    "import matplotlib.pyplot as plt\n",
    "import seaborn as sns\n",
    "from statsmodels.graphics.tsaplots import plot_pacf\n",
    "from statsmodels.graphics.tsaplots import plot_acf\n",
    "from statsmodels.tsa.statespace.sarimax import SARIMAX\n",
    "from pmdarima import auto_arima,arima\n",
    "from itertools import product\n",
    "from tqdm import tqdm_notebook\n",
    "import warnings\n",
    "warnings.filterwarnings('ignore')\n",
    "%matplotlib inline\n",
    "from sklearn.metrics import mean_squared_error"
   ]
  },
  {
   "cell_type": "code",
   "execution_count": 2,
   "id": "e7bd2f71",
   "metadata": {},
   "outputs": [],
   "source": [
    "train = pd.read_csv(\"train.csv\",parse_dates=['date'])\n",
    "test = pd.read_csv(\"test.csv\",parse_dates=['date'])\n",
    "oil = pd.read_csv(\"oil.csv\",parse_dates=['date'])\n",
    "holiday = pd.read_csv(\"holidays_events.csv\",parse_dates=['date'])\n",
    "transactions = pd.read_csv(\"transactions.csv\",parse_dates=['date'])\n",
    "sample = pd.read_csv(\"sample_submission.csv\")\n",
    "stores = pd.read_csv(\"stores.csv\")"
   ]
  },
  {
   "cell_type": "code",
   "execution_count": null,
   "id": "1dfaab27",
   "metadata": {},
   "outputs": [],
   "source": [
    "family_group=[]\n",
    "for i in range(33,66):\n",
    "    family_group.append(train.iloc[i,3])"
   ]
  },
  {
   "cell_type": "code",
   "execution_count": null,
   "id": "e7ad2faa",
   "metadata": {},
   "outputs": [],
   "source": [
    "result=pd.concat([train,test])\n",
    "result"
   ]
  },
  {
   "cell_type": "code",
   "execution_count": null,
   "id": "5d27971b",
   "metadata": {},
   "outputs": [],
   "source": [
    "\n",
    "r1=pd.merge(result,stores,how=\"left\",on=[\"store_nbr\"])\n",
    "r2=pd.merge(r1,transactions,how=\"left\",on=[\"date\",\"store_nbr\"])\n",
    "Data=pd.merge(r2,oil,how=\"left\",on=[\"date\"])\n",
    "Data"
   ]
  },
  {
   "cell_type": "code",
   "execution_count": null,
   "id": "a0c7656b",
   "metadata": {},
   "outputs": [],
   "source": [
    "Data.isna().sum()"
   ]
  },
  {
   "cell_type": "code",
   "execution_count": null,
   "id": "7791c48a",
   "metadata": {},
   "outputs": [],
   "source": [
    "Data.fillna(value={'sales':0.0},inplace=True)\n",
    "Data.fillna(value={'transactions':0.0},inplace=True)\n",
    "Data.fillna(value={'dcoilwtico':0.0},inplace=True)"
   ]
  },
  {
   "cell_type": "code",
   "execution_count": null,
   "id": "80cc3f65",
   "metadata": {},
   "outputs": [],
   "source": [
    "Data.isna().sum()"
   ]
  },
  {
   "cell_type": "code",
   "execution_count": null,
   "id": "f064e150",
   "metadata": {
    "scrolled": true
   },
   "outputs": [],
   "source": [
    "Data.head(10)\n"
   ]
  },
  {
   "cell_type": "code",
   "execution_count": null,
   "id": "bf16ecaf",
   "metadata": {},
   "outputs": [],
   "source": [
    "Data.set_index(\"store_nbr\",inplace=True)"
   ]
  },
  {
   "cell_type": "code",
   "execution_count": null,
   "id": "d8038aea",
   "metadata": {},
   "outputs": [],
   "source": [
    "store={}\n",
    "store_family={}\n",
    "family_group"
   ]
  },
  {
   "cell_type": "code",
   "execution_count": null,
   "id": "486883f5",
   "metadata": {},
   "outputs": [],
   "source": [
    "for i in range(1,55):\n",
    "    store[i]=df.loc[i]\n",
    "    store[i].set_index(\"family\",inplace=True)\n",
    "    for j in range(0,33):\n",
    "        store_family[i,j]=store[i].loc[family_group[j]]\n",
    "        store_family[i,j].set_index(\"date\",inplace=True)"
   ]
  },
  {
   "cell_type": "code",
   "execution_count": null,
   "id": "45576b1a",
   "metadata": {},
   "outputs": [],
   "source": [
    "df=store_family[1,0]"
   ]
  },
  {
   "cell_type": "code",
   "execution_count": null,
   "id": "f0b3fb3a",
   "metadata": {},
   "outputs": [],
   "source": [
    "df[\"sales\"].plot()"
   ]
  },
  {
   "cell_type": "code",
   "execution_count": null,
   "id": "9656954b",
   "metadata": {},
   "outputs": [],
   "source": []
  },
  {
   "cell_type": "code",
   "execution_count": null,
   "id": "3d881875",
   "metadata": {},
   "outputs": [],
   "source": [
    "p = range(0, 4, 1)\n",
    "d = 1\n",
    "q = range(0, 4, 1)\n",
    "P = range(0, 4, 1)\n",
    "D = 1\n",
    "Q = range(0, 4, 1)\n",
    "s = 4\n",
    "parameters = product(p, q, P, Q)\n",
    "parameters_list = list(parameters)\n",
    "print(len(parameters_list))"
   ]
  },
  {
   "cell_type": "code",
   "execution_count": null,
   "id": "759f2612",
   "metadata": {},
   "outputs": [],
   "source": [
    "def transactionsforecast(df,array,d):\n",
    "    data=df['transactions']\n",
    "    train_transactions_data=data.copy()\n",
    "    train_transactions_data.loc[-16:]=np.nan\n",
    "    test_transactions_exog=df['dcoilwtico'].iloc[-16:]\n",
    "    model=SARIMAX(endog=train_transactions_data,order=(0, 0, 1), seasonal_order=(0, 0, 1, 12),exog=df['dcoilwtico']).fit()\n",
    "    start=datetime(2017,8,16)\n",
    "    end=datetime(2017,8,31)\n",
    "    forecast=model.predict(start=start ,end=end,exog=test_transactions_exog)\n",
    "    exog_predict=df[array][-16:]\n",
    "    if d==1:\n",
    "        exog_predict['transactions'][-16:]=forecast1\n",
    "        return exog_predict\n",
    "    else:\n",
    "        return exog_predict"
   ]
  },
  {
   "cell_type": "code",
   "execution_count": null,
   "id": "cbe6a122",
   "metadata": {},
   "outputs": [],
   "source": [
    "def optimize_SARIMAX(parameters_list, d, D, s, endog,df,exoglist,c):\n",
    "    results = []\n",
    "    for param in tqdm_notebook(parameters_list):\n",
    "        try:\n",
    "            if exoglist:\n",
    "                model = SARIMAX(endog=endog,exog=df[exoglist], order=(param[0], d, param[1]),k_exog=c, seasonal_order=(param[2], D, param[3], s)).fit(disp=-1)\n",
    "            else:\n",
    "                model = SARIMAX(endog=endog, order=(param[0], d, param[1]), seasonal_order=(param[2], D, param[3], s)).fit(disp=-1)\n",
    "        except:\n",
    "            continue\n",
    "            \n",
    "        aic = model.aic\n",
    "        results.append([param, aic])\n",
    "        \n",
    "    result_df = pd.DataFrame(results)\n",
    "    result_df.columns = ['(p,q,P,Q)', 'AIC']\n",
    "    result_df = result_df.sort_values(by='AIC', ascending=True).reset_index(drop=True)\n",
    "    param=result_df['(p,q,P,Q)'][0]\n",
    "    return param"
   ]
  },
  {
   "cell_type": "code",
   "execution_count": null,
   "id": "cd0940d0",
   "metadata": {},
   "outputs": [],
   "source": [
    "def sarimax(df):\n",
    "    df.sort_values('id')\n",
    "    correlation=df.corr(method='pearson')\n",
    "    array=[]\n",
    "    c=0\n",
    "    d=0\n",
    "    if correlation['sales']['onpromotion']>0.5 and correlation['sales']['onpromotion']<1:\n",
    "        array+=['onpromotion']\n",
    "        c+=1\n",
    "    if correlation['sales']['transactions']>0.5 and correlation['sales']['transactions']<1:\n",
    "        array+=['transactions']\n",
    "        c+=1\n",
    "        d+=1\n",
    "    if correlation['sales']['dcoilwtico']>0.5 and correlation['sales']['dcoilwtico']<1:\n",
    "        array+=['dcoilwtico']\n",
    "        c+=1\n",
    "    D=arima.nsdiffs(df['sales'][:-16],12)\n",
    "    d=arima.ndiffs(df['sales'][:-16])\n",
    "    s=12\n",
    "    param=optimize_SARIMAX(parameters_list, d, D, s, df['sales'],df,array,c)\n",
    "    D=arima.nsdiffs(df['sales'][:-16],12)\n",
    "    d=arima.ndiffs(df['sales'][:-16])\n",
    "    if array:        \n",
    "        model = SARIMAX(endog=df['sales'],exog=df[array], order=(param[0], d, param[1]),k_exog=c, seasonal_order=(param[2], D, param[3], s)).fit()\n",
    "    else:\n",
    "        model = SARIMAX(endog=df['sales'], order=(param[0], d, param[1]), seasonal_order=(param[2], D, param[3], s)).fit(disp=-1)\n",
    "    exog_predict=transactionsforecast(df,array,d)\n",
    "    start=datetime(2017,8,16)\n",
    "    end=datetime(2017,8,31)\n",
    "    if array:\n",
    "        forecast=model.predict(start=start ,end=end,exog=exog_predict)\n",
    "    else:\n",
    "        forecast=model.predict(start=start ,end=end)\n",
    "    \n",
    "   ''' error=np.sqrt(mean_squared_error(forecast,df[\"sales\"]))\n",
    "    print(\"error:\",error)'''\n",
    "    pred=forecast.tail(16)\n",
    "    data=df[['id','sales']].tail(16)\n",
    "    for i in range(0,16):\n",
    "        data['sales'][i]=pred[i]\n",
    "    return data"
   ]
  },
  {
   "cell_type": "code",
   "execution_count": null,
   "id": "7840e1ed",
   "metadata": {},
   "outputs": [],
   "source": [
    "forecast=pd.DataFrame()\n",
    "for i in range(1,55):\n",
    "    for j in range(0,33):\n",
    "        data=sarimax(store_family[i,j])\n",
    "        forecast=pd.concat([forecast,data])\n",
    "forecast.sort_values('id')\n",
    "forecast.to_csv(\"submission.csv\", index = False)\n",
    "forecast"
   ]
  },
  {
   "cell_type": "code",
   "execution_count": null,
   "id": "7844dd80",
   "metadata": {},
   "outputs": [],
   "source": []
  },
  {
   "cell_type": "code",
   "execution_count": null,
   "id": "b67a344d",
   "metadata": {},
   "outputs": [],
   "source": []
  }
 ],
 "metadata": {
  "kernelspec": {
   "display_name": "Python 3 (ipykernel)",
   "language": "python",
   "name": "python3"
  },
  "language_info": {
   "codemirror_mode": {
    "name": "ipython",
    "version": 3
   },
   "file_extension": ".py",
   "mimetype": "text/x-python",
   "name": "python",
   "nbconvert_exporter": "python",
   "pygments_lexer": "ipython3",
   "version": "3.9.1"
  }
 },
 "nbformat": 4,
 "nbformat_minor": 5
}
